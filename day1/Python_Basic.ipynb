{
 "cells": [
  {
   "cell_type": "code",
   "execution_count": 1,
   "id": "ba642066",
   "metadata": {},
   "outputs": [
    {
     "data": {
      "text/plain": [
       "20"
      ]
     },
     "execution_count": 1,
     "metadata": {},
     "output_type": "execute_result"
    }
   ],
   "source": [
    "10+10"
   ]
  },
  {
   "cell_type": "code",
   "execution_count": 2,
   "id": "489888d3",
   "metadata": {},
   "outputs": [
    {
     "data": {
      "text/plain": [
       "0"
      ]
     },
     "execution_count": 2,
     "metadata": {},
     "output_type": "execute_result"
    }
   ],
   "source": [
    "10-10"
   ]
  },
  {
   "cell_type": "code",
   "execution_count": 3,
   "id": "901dd489",
   "metadata": {},
   "outputs": [
    {
     "data": {
      "text/plain": [
       "100"
      ]
     },
     "execution_count": 3,
     "metadata": {},
     "output_type": "execute_result"
    }
   ],
   "source": [
    "10*10"
   ]
  },
  {
   "cell_type": "code",
   "execution_count": 4,
   "id": "92f914e5",
   "metadata": {},
   "outputs": [
    {
     "data": {
      "text/plain": [
       "1.0"
      ]
     },
     "execution_count": 4,
     "metadata": {},
     "output_type": "execute_result"
    }
   ],
   "source": [
    "10/10"
   ]
  },
  {
   "cell_type": "code",
   "execution_count": 5,
   "id": "74c80713",
   "metadata": {},
   "outputs": [
    {
     "name": "stdout",
     "output_type": "stream",
     "text": [
      "hello world\n"
     ]
    }
   ],
   "source": [
    "print('hello world')"
   ]
  },
  {
   "cell_type": "code",
   "execution_count": 6,
   "id": "77258ad4",
   "metadata": {},
   "outputs": [],
   "source": [
    "a=1"
   ]
  },
  {
   "cell_type": "code",
   "execution_count": 7,
   "id": "a7835348",
   "metadata": {},
   "outputs": [
    {
     "name": "stdout",
     "output_type": "stream",
     "text": [
      "<class 'int'>\n"
     ]
    }
   ],
   "source": [
    "print(type(a))"
   ]
  },
  {
   "cell_type": "code",
   "execution_count": 8,
   "id": "b2a16b63",
   "metadata": {},
   "outputs": [],
   "source": [
    "a='1'"
   ]
  },
  {
   "cell_type": "code",
   "execution_count": 9,
   "id": "7f1fca20",
   "metadata": {},
   "outputs": [
    {
     "name": "stdout",
     "output_type": "stream",
     "text": [
      "<class 'str'>\n"
     ]
    }
   ],
   "source": [
    "print(type(a))"
   ]
  },
  {
   "cell_type": "code",
   "execution_count": 10,
   "id": "1cd1aa6c",
   "metadata": {},
   "outputs": [],
   "source": [
    "a=[1,2,3,4,5,6]"
   ]
  },
  {
   "cell_type": "code",
   "execution_count": 11,
   "id": "b8ac6278",
   "metadata": {},
   "outputs": [
    {
     "name": "stdout",
     "output_type": "stream",
     "text": [
      "<class 'list'>\n"
     ]
    }
   ],
   "source": [
    "print(type(a))"
   ]
  },
  {
   "cell_type": "code",
   "execution_count": 12,
   "id": "e71b7491",
   "metadata": {},
   "outputs": [],
   "source": [
    "a={'1':1, '2':2, '3':3, '4':4, '5':5, '6':6,}"
   ]
  },
  {
   "cell_type": "code",
   "execution_count": 13,
   "id": "74a00ba0",
   "metadata": {},
   "outputs": [
    {
     "name": "stdout",
     "output_type": "stream",
     "text": [
      "<class 'dict'>\n"
     ]
    }
   ],
   "source": [
    "print(type(a))"
   ]
  },
  {
   "cell_type": "code",
   "execution_count": 12,
   "id": "62d2c50d",
   "metadata": {},
   "outputs": [
    {
     "name": "stdout",
     "output_type": "stream",
     "text": [
      "a = 6\n",
      "a = -70\n",
      "<class 'int'>\n"
     ]
    }
   ],
   "source": [
    "#integer\n",
    "a = 1+2+3\n",
    "print('a = ' + str(a))\n",
    "a=-10+10+(-30-40)\n",
    "print('a = ' + str(a))\n",
    "print(type(a))"
   ]
  },
  {
   "cell_type": "code",
   "execution_count": 11,
   "id": "7c36bad9",
   "metadata": {},
   "outputs": [
    {
     "name": "stdout",
     "output_type": "stream",
     "text": [
      "a = -55.6764\n",
      "a = 0.6666666666666666\n",
      "<class 'float'>\n"
     ]
    }
   ],
   "source": [
    "#float\n",
    "a=128.8+38-222.4764\n",
    "print('a = ' + str(a))\n",
    "a=2/3\n",
    "print('a = ' + str(a))\n",
    "print(type(a))"
   ]
  },
  {
   "cell_type": "code",
   "execution_count": 15,
   "id": "94b9e831",
   "metadata": {},
   "outputs": [
    {
     "name": "stdout",
     "output_type": "stream",
     "text": [
      "a = 3.3333333333333335\n",
      "a = 3\n"
     ]
    }
   ],
   "source": [
    "# // 소수점 절삭 연산자\n",
    "a=10/3\n",
    "print('a = ' + str(a))\n",
    "a=10//3\n",
    "print('a = ' + str(a))"
   ]
  },
  {
   "cell_type": "code",
   "execution_count": 16,
   "id": "d8c92e1a",
   "metadata": {},
   "outputs": [
    {
     "name": "stdout",
     "output_type": "stream",
     "text": [
      "a = 8\n",
      "a = 81\n"
     ]
    }
   ],
   "source": [
    "# ** 제곱 연산자\n",
    "a=2**3\n",
    "print('a = ' + str(a))\n",
    "a=3**4\n",
    "print('a = ' + str(a))"
   ]
  },
  {
   "cell_type": "markdown",
   "id": "c71c267f",
   "metadata": {},
   "source": [
    "# 문자열(String)"
   ]
  },
  {
   "cell_type": "code",
   "execution_count": 327,
   "id": "2b6df29b",
   "metadata": {},
   "outputs": [
    {
     "name": "stdout",
     "output_type": "stream",
     "text": [
      "a = hello world\n",
      "a = hello world\n",
      "a = hello worldhello worldhello world\n",
      "a[0] = h\n",
      "a[1] = e\n",
      "a[2] = l\n",
      "a[3] = l\n",
      "a[4] = o\n",
      "a[0:5] = hello\n"
     ]
    }
   ],
   "source": [
    "a='hello world'\n",
    "print('a = ' + a)\n",
    "a=\"hello world\"\n",
    "print('a = ' + str(a))\n",
    "a=\"hello world\"*3\n",
    "print('a = ' + str(a))\n",
    "a='hello world'\n",
    "print('a[0] = ' + a[0])\n",
    "print('a[1] = ' + a[1])\n",
    "print('a[2] = ' + a[2])\n",
    "print('a[3] = ' + a[3])\n",
    "print('a[4] = ' + a[4])\n",
    "print('a[0:5] = ' + a[0:5])"
   ]
  },
  {
   "cell_type": "code",
   "execution_count": 29,
   "id": "3026b930",
   "metadata": {},
   "outputs": [
    {
     "name": "stdout",
     "output_type": "stream",
     "text": [
      "Today : 2023-03-15\n",
      "string length - Today is 10\n"
     ]
    }
   ],
   "source": [
    "date = '20230315'\n",
    "year = date[0:4]\n",
    "month = date[4:6]\n",
    "day = date[6:]\n",
    "date2 = year + '-' + month + '-' + day\n",
    "print(\"Today : \" + date2 )\n",
    "print('string length - Today is ' + str(len(date2)))\n"
   ]
  },
  {
   "cell_type": "code",
   "execution_count": 34,
   "id": "de11adcc",
   "metadata": {},
   "outputs": [
    {
     "name": "stdout",
     "output_type": "stream",
     "text": [
      "나는 빨강 을 좋아합니다.\n",
      "나는 초록 을 좋아합니다.\n"
     ]
    }
   ],
   "source": [
    "color = '빨강'\n",
    "fmt = '나는 %s 을 좋아합니다.' % color\n",
    "print(fmt)\n",
    "color = '초록'\n",
    "fmt = '나는 %s 을 좋아합니다.' % color\n",
    "print(fmt)"
   ]
  },
  {
   "cell_type": "code",
   "execution_count": 42,
   "id": "b8bb2e51",
   "metadata": {},
   "outputs": [
    {
     "name": "stdout",
     "output_type": "stream",
     "text": [
      "sum : 280, avg : 93.333333\n",
      "result type :: <class 'tuple'>\n"
     ]
    }
   ],
   "source": [
    "kor = 88\n",
    "eng = 95\n",
    "math = 97\n",
    "sum = kor + eng + math\n",
    "avg = sum/3\n",
    "fmt = 'sum : %d, avg : %f' % (sum, avg)\n",
    "result = (sum, avg)\n",
    "fmt = 'sum : %d, avg : %f' % result\n",
    "print(fmt)\n",
    "\n",
    "print('result type :: ' + str(type(result)))"
   ]
  },
  {
   "cell_type": "markdown",
   "id": "107f2119",
   "metadata": {},
   "source": [
    "# Tuple - (a,b), List - [1,2], Dict - {'a':1}"
   ]
  },
  {
   "cell_type": "code",
   "execution_count": 320,
   "id": "19684a4a",
   "metadata": {},
   "outputs": [
    {
     "name": "stdout",
     "output_type": "stream",
     "text": [
      "input integer value : 10\n",
      "value is 10\n",
      "input integer value : 20\n",
      "value is 20\n"
     ]
    }
   ],
   "source": [
    "a = input('input integer value : ')\n",
    "print('value is ' + a)\n",
    "b = input('input integer value : ')\n",
    "print('value is ' + b)"
   ]
  },
  {
   "cell_type": "code",
   "execution_count": 48,
   "id": "f2b2ca29",
   "metadata": {},
   "outputs": [
    {
     "name": "stdout",
     "output_type": "stream",
     "text": [
      "input your name : Kim Minji\n",
      "name is Kim Minji\n"
     ]
    }
   ],
   "source": [
    "name = input('input your name : ')\n",
    "print('name is ' + name)"
   ]
  },
  {
   "cell_type": "code",
   "execution_count": 49,
   "id": "88458979",
   "metadata": {},
   "outputs": [
    {
     "name": "stdout",
     "output_type": "stream",
     "text": [
      "input integer value : 30\n",
      "value is 30\n",
      "input integer value : 50\n",
      "value is 50\n",
      "sum = 80\n",
      "sub = -20\n",
      "mul = 1500\n",
      "div = 0.6\n"
     ]
    }
   ],
   "source": [
    "a = input('input integer value : ')\n",
    "print('value is ' + a)\n",
    "b = input('input integer value : ')\n",
    "print('value is ' + b)\n",
    "a = int(a)\n",
    "b = int(b)\n",
    "print('sum = ' + str(a+b))\n",
    "print('sub = ' + str(a-b))\n",
    "print('mul = ' + str(a*b))\n",
    "print('div = ' + str(a/b))"
   ]
  },
  {
   "cell_type": "code",
   "execution_count": 51,
   "id": "85262af9",
   "metadata": {},
   "outputs": [
    {
     "name": "stdout",
     "output_type": "stream",
     "text": [
      "물건 가격 : 500\n",
      "구매 개수 : 4\n",
      "지불 금액 : 3000\n",
      "물건 가격 : 500, 구매 개수 : 4, 지불 금액 : 3000 => 거스름돈 : 1000\n"
     ]
    }
   ],
   "source": [
    "price = int(input('물건 가격 : '))\n",
    "num = int(input('구매 개수 : '))\n",
    "pay = int(input('지불 금액 : '))\n",
    "change = pay - price * num\n",
    "print('물건 가격 : %d, 구매 개수 : %d, 지불 금액 : %d => 거스름돈 : %d' %(price, num, pay, change))"
   ]
  },
  {
   "cell_type": "code",
   "execution_count": 52,
   "id": "718240cb",
   "metadata": {},
   "outputs": [
    {
     "name": "stdout",
     "output_type": "stream",
     "text": [
      "My name is John, I'm 36\n",
      "My name is John, I'm 36\n",
      "My name is John, I'm 36\n"
     ]
    }
   ],
   "source": [
    "txt1 = \"My name is {fname}, I'm {age}\".format(fname = \"John\", age = 36)\n",
    "txt2 = \"My name is {0}, I'm {1}\".format(\"John\", 36)\n",
    "txt3 = \"My name is {}, I'm {}\".format(\"John\", 36)\n",
    "print(txt1)\n",
    "print(txt2)\n",
    "print(txt3)"
   ]
  },
  {
   "cell_type": "markdown",
   "id": "5c332ae0",
   "metadata": {},
   "source": [
    "# Python Logic - if and for ..."
   ]
  },
  {
   "cell_type": "code",
   "execution_count": 59,
   "id": "5f8a411d",
   "metadata": {},
   "outputs": [
    {
     "name": "stdout",
     "output_type": "stream",
     "text": [
      "input x value : 11\n",
      "x > 10\n"
     ]
    }
   ],
   "source": [
    "x = input('input x value : ')\n",
    "x = int(x)\n",
    "if x > 100 :\n",
    "    print('positive')\n",
    "elif x > 10 :\n",
    "        print('x > 10')\n",
    "else :\n",
    "    print('negative')"
   ]
  },
  {
   "cell_type": "code",
   "execution_count": 63,
   "id": "8faeaf3a",
   "metadata": {},
   "outputs": [
    {
     "name": "stdout",
     "output_type": "stream",
     "text": [
      "5 > 2 : True\n",
      "5 < 2 : False\n",
      "5 == 2 : False\n",
      "5 != 2 : True\n",
      "5 <= 2 : False\n",
      "5 >= 2 : True\n"
     ]
    }
   ],
   "source": [
    "a = 5\n",
    "b = 2\n",
    "print(\"{a} > {b} : \".format(a = a, b = b) + str(a > b))\n",
    "print(\"{a} < {b} : \".format(a = a, b = b) + str(a < b))\n",
    "print(\"{a} == {b} : \".format(a = a, b = b) + str(a == b))\n",
    "print(\"{a} != {b} : \".format(a = a, b = b) + str(a != b))\n",
    "print(\"{a} <= {b} : \".format(a = a, b = b) + str(a <= b))\n",
    "print(\"{a} >= {b} : \".format(a = a, b = b) + str(a >= b))"
   ]
  },
  {
   "cell_type": "code",
   "execution_count": 72,
   "id": "3e995064",
   "metadata": {},
   "outputs": [
    {
     "name": "stdout",
     "output_type": "stream",
     "text": [
      "and type : <class 'bool'>, value : False\n",
      "or type : <class 'bool'>, value : True\n",
      "== type : <class 'bool'>, value : False\n",
      "not type : <class 'bool'>, value : True\n",
      "x % 2 == 0 type : <class 'bool'>, value : False\n",
      "not x % 2 == 0 type : <class 'bool'>, value : True\n"
     ]
    }
   ],
   "source": [
    "#논리 연산자 & || ! => and or not\n",
    "kor = 60\n",
    "eng = 90\n",
    "comp = kor >= 70 and eng >= 90\n",
    "print('and type : ' + str(type(comp)) + ', value : ' + str(comp))\n",
    "comp = kor >= 70 or eng >= 90\n",
    "print('or type : ' + str(type(comp)) + ', value : ' + str(comp))\n",
    "\n",
    "comp = kor == 70    #kor = 60\n",
    "print('== type : ' + str(type(comp)) + ', value : ' + str(comp))\n",
    "\n",
    "comp = not kor == 70\n",
    "print('not type : ' + str(type(comp)) + ', value : ' + str(comp))\n",
    "\n",
    "x = 5\n",
    "comp = x % 2 == 0\n",
    "print('x % 2 == 0 type : ' + str(type(comp)) + ', value : ' + str(comp))\n",
    "comp = not x % 2 == 0\n",
    "print('not x % 2 == 0 type : ' + str(type(comp)) + ', value : ' + str(comp))"
   ]
  },
  {
   "cell_type": "code",
   "execution_count": 78,
   "id": "19ac9ba3",
   "metadata": {},
   "outputs": [
    {
     "name": "stdout",
     "output_type": "stream",
     "text": [
      "정수를 입력하세요 : 120\n",
      "입력된 정수 : 120입니다.\n",
      "입력된 정수는 100 ~ 1000 사이에 있습니다!\n"
     ]
    }
   ],
   "source": [
    "num = int(input('정수를 입력하세요 : '))\n",
    "result = '입력된 정수는 100 ~ 1000 사이에 있지 않습니다!'\n",
    "if num >= 100 and num <= 1000 :\n",
    "    result = '입력된 정수는 100 ~ 1000 사이에 있습니다!'\n",
    "    \n",
    "print('입력된 정수 : {}'.format(num) + '입니다.')\n",
    "print('%s' % result)"
   ]
  },
  {
   "cell_type": "code",
   "execution_count": 93,
   "id": "c39324ad",
   "metadata": {},
   "outputs": [
    {
     "name": "stdout",
     "output_type": "stream",
     "text": [
      "영어 소문자 하나를 입력하세요 : i\n",
      "i -> 모음\n"
     ]
    }
   ],
   "source": [
    "char = input('영어 소문자 하나를 입력하세요 : ')\n",
    "if(char == 'a' or char == 'e' or char == 'i' or char == 'o' or char == 'u'):\n",
    "    print('%s -> 모음' % char)\n",
    "else :\n",
    "    print('%s -> 자음' % char)"
   ]
  },
  {
   "cell_type": "code",
   "execution_count": 111,
   "id": "2fd7ba4e",
   "metadata": {},
   "outputs": [
    {
     "name": "stdout",
     "output_type": "stream",
     "text": [
      "월을 입력해주세요 : 13\n",
      "월이 잘못 입력 되었습니다!\n"
     ]
    }
   ],
   "source": [
    "month = int(input('월을 입력해주세요 : '))\n",
    "if month >= 3 and month <=5 : \n",
    "    season = '봄'\n",
    "    print(month, '월은 ', season, '입니다', sep = \"\")\n",
    "elif month >= 6 and month <=8 : \n",
    "    season = '여름'\n",
    "    print(month, '월은 ', season, '입니다', sep = \"\")\n",
    "elif month >= 9 and month <=11 : \n",
    "    season = '가을'\n",
    "    print(month, '월은 ', season, '입니다', sep = \"\")\n",
    "elif month == 12 or month == 1 or month == 2 :\n",
    "    season = '겨울'\n",
    "    print(month, '월은 ', season, '입니다', sep = \"\")\n",
    "else :\n",
    "    print('월이 잘못 입력 되었습니다!')"
   ]
  },
  {
   "cell_type": "markdown",
   "id": "7dde2aea",
   "metadata": {},
   "source": [
    "# 반복문 ... for, while"
   ]
  },
  {
   "cell_type": "code",
   "execution_count": 112,
   "id": "65f6c744",
   "metadata": {},
   "outputs": [
    {
     "name": "stdout",
     "output_type": "stream",
     "text": [
      "안녕하세요!\n",
      "안녕하세요!\n",
      "안녕하세요!\n",
      "안녕하세요!\n",
      "안녕하세요!\n"
     ]
    }
   ],
   "source": [
    "for x in range(5) :\n",
    "    print('안녕하세요!')"
   ]
  },
  {
   "cell_type": "code",
   "execution_count": 123,
   "id": "5c32ec96",
   "metadata": {},
   "outputs": [
    {
     "name": "stdout",
     "output_type": "stream",
     "text": [
      "[0] hello world\n",
      "[1] hello world\n",
      "[2] hello world\n",
      "[3] hello world\n",
      "[4] hello world\n",
      "==============================\n",
      "2\n",
      "3\n",
      "4\n",
      "5\n",
      "==============================\n",
      "2\n",
      "4\n",
      "6\n",
      "8\n",
      "10\n",
      "12\n",
      "14\n",
      "16\n",
      "18\n",
      "20\n",
      "22\n",
      "24\n",
      "26\n",
      "28\n",
      "==============================\n",
      "apple\n",
      "cherry\n",
      "==============================\n",
      "apple apple\n",
      "apple banana\n",
      "apple cherry\n",
      "banana apple\n",
      "banana banana\n",
      "banana cherry\n",
      "cherry apple\n",
      "cherry banana\n",
      "cherry cherry\n",
      "==============================\n",
      "0\n",
      "1\n",
      "2\n",
      "3\n",
      "4\n",
      "5\n",
      "6\n"
     ]
    }
   ],
   "source": [
    "cnt = 5\n",
    "for i in range(cnt) : # <== for(i = 0; i<cnt(5); i++)\n",
    "    print('[{}] hello world'.format(i))\n",
    "print('==='*10)\n",
    "    \n",
    "for x in range(2,6) : # start, finish\n",
    "    print(x)\n",
    "print('==='*10)\n",
    "\n",
    "for x in range(2,30,2) : # start, finish, 2씩 plus\n",
    "    print(x)    \n",
    "print('==='*10)\n",
    "\n",
    "fruits = ['apple', 'banana', 'cherry']\n",
    "for fruit in fruits:\n",
    "    if fruit == 'banana' :\n",
    "        continue #break;\n",
    "    print(fruit)\n",
    "print('==='*10)\n",
    "    \n",
    "for x in fruits:\n",
    "    for y in fruits:\n",
    "        print(x,y)\n",
    "print('==='*10)\n",
    "\n",
    "for x in [0,1,2,3,4,5,6] :\n",
    "    print(x)"
   ]
  },
  {
   "cell_type": "markdown",
   "id": "87705e55",
   "metadata": {},
   "source": [
    "# for --> 구구단\n",
    "#### 2x1 = 2  3x1 = 3 ... 9x1 = 9\n",
    "#### 2x2 = 4  3x2 = 6 ... 9x2 = 18\n",
    "#### ...\n",
    "####                                9x9 = 81 "
   ]
  },
  {
   "cell_type": "code",
   "execution_count": 163,
   "id": "fc8f531b",
   "metadata": {},
   "outputs": [
    {
     "name": "stdout",
     "output_type": "stream",
     "text": [
      "2 x 1 = 2\t3 x 1 = 3\t4 x 1 = 4\t5 x 1 = 5\t6 x 1 = 6\t7 x 1 = 7\t8 x 1 = 8\t9 x 1 = 9\t\n",
      "2 x 2 = 4\t3 x 2 = 6\t4 x 2 = 8\t5 x 2 = 10\t6 x 2 = 12\t7 x 2 = 14\t8 x 2 = 16\t9 x 2 = 18\t\n",
      "2 x 3 = 6\t3 x 3 = 9\t4 x 3 = 12\t5 x 3 = 15\t6 x 3 = 18\t7 x 3 = 21\t8 x 3 = 24\t9 x 3 = 27\t\n",
      "2 x 4 = 8\t3 x 4 = 12\t4 x 4 = 16\t5 x 4 = 20\t6 x 4 = 24\t7 x 4 = 28\t8 x 4 = 32\t9 x 4 = 36\t\n",
      "2 x 5 = 10\t3 x 5 = 15\t4 x 5 = 20\t5 x 5 = 25\t6 x 5 = 30\t7 x 5 = 35\t8 x 5 = 40\t9 x 5 = 45\t\n",
      "2 x 6 = 12\t3 x 6 = 18\t4 x 6 = 24\t5 x 6 = 30\t6 x 6 = 36\t7 x 6 = 42\t8 x 6 = 48\t9 x 6 = 54\t\n",
      "2 x 7 = 14\t3 x 7 = 21\t4 x 7 = 28\t5 x 7 = 35\t6 x 7 = 42\t7 x 7 = 49\t8 x 7 = 56\t9 x 7 = 63\t\n",
      "2 x 8 = 16\t3 x 8 = 24\t4 x 8 = 32\t5 x 8 = 40\t6 x 8 = 48\t7 x 8 = 56\t8 x 8 = 64\t9 x 8 = 72\t\n",
      "2 x 9 = 18\t3 x 9 = 27\t4 x 9 = 36\t5 x 9 = 45\t6 x 9 = 54\t7 x 9 = 63\t8 x 9 = 72\t9 x 9 = 81\t\n"
     ]
    }
   ],
   "source": [
    "for row in range(1,10,1) :\n",
    "    line = ''\n",
    "    for col in range(2,10,1) :\n",
    "        line += '{} x {} = {}\\t'.format(col, row, col*row)\n",
    "    print(line)"
   ]
  },
  {
   "cell_type": "code",
   "execution_count": 177,
   "id": "51fa8d7a",
   "metadata": {},
   "outputs": [
    {
     "name": "stdout",
     "output_type": "stream",
     "text": [
      "2x2=4\t3x2=6\t4x2=8\t5x2=10\t6x2=12\t7x2=14\t8x2=16\t9x2=18\t\n",
      "2x3=6\t3x3=9\t4x3=12\t5x3=15\t6x3=18\t7x3=21\t8x3=24\t9x3=27\t\n",
      "2x4=8\t3x4=12\t4x4=16\t5x4=20\t6x4=24\t7x4=28\t8x4=32\t9x4=36\t\n",
      "2x5=10\t3x5=15\t4x5=20\t5x5=25\t6x5=30\t7x5=35\t8x5=40\t9x5=45\t\n",
      "2x6=12\t3x6=18\t4x6=24\t5x6=30\t6x6=36\t7x6=42\t8x6=48\t9x6=54\t\n",
      "2x7=14\t3x7=21\t4x7=28\t5x7=35\t6x7=42\t7x7=49\t8x7=56\t9x7=63\t\n",
      "2x8=16\t3x8=24\t4x8=32\t5x8=40\t6x8=48\t7x8=56\t8x8=64\t9x8=72\t\n",
      "2x9=18\t3x9=27\t4x9=36\t5x9=45\t6x9=54\t7x9=63\t8x9=72\t9x9=81\t\n"
     ]
    }
   ],
   "source": [
    "for x in range(2,10) :\n",
    "    for y in range(2,10) :\n",
    "        print('{1}x{0}='.format(x,y) + str(x*y), end = '\\t')\n",
    "    print(sep= '')"
   ]
  },
  {
   "cell_type": "code",
   "execution_count": 330,
   "id": "a50ec99e",
   "metadata": {},
   "outputs": [
    {
     "name": "stdout",
     "output_type": "stream",
     "text": [
      "2 x 1 = 2\t3 x 1 = 3\t4 x 1 = 4\t5 x 1 = 5\t6 x 1 = 6\t7 x 1 = 7\t8 x 1 = 8\t9 x 1 = 9\t\n",
      "2 x 2 = 4\t3 x 2 = 6\t4 x 2 = 8\t5 x 2 = 10\t6 x 2 = 12\t7 x 2 = 14\t8 x 2 = 16\t9 x 2 = 18\t\n",
      "2 x 3 = 6\t3 x 3 = 9\t4 x 3 = 12\t5 x 3 = 15\t6 x 3 = 18\t7 x 3 = 21\t8 x 3 = 24\t9 x 3 = 27\t\n",
      "2 x 4 = 8\t3 x 4 = 12\t4 x 4 = 16\t5 x 4 = 20\t6 x 4 = 24\t7 x 4 = 28\t8 x 4 = 32\t9 x 4 = 36\t\n",
      "2 x 5 = 10\t3 x 5 = 15\t4 x 5 = 20\t5 x 5 = 25\t6 x 5 = 30\t7 x 5 = 35\t8 x 5 = 40\t9 x 5 = 45\t\n",
      "2 x 6 = 12\t3 x 6 = 18\t4 x 6 = 24\t5 x 6 = 30\t6 x 6 = 36\t7 x 6 = 42\t8 x 6 = 48\t9 x 6 = 54\t\n",
      "2 x 7 = 14\t3 x 7 = 21\t4 x 7 = 28\t5 x 7 = 35\t6 x 7 = 42\t7 x 7 = 49\t8 x 7 = 56\t9 x 7 = 63\t\n",
      "2 x 8 = 16\t3 x 8 = 24\t4 x 8 = 32\t5 x 8 = 40\t6 x 8 = 48\t7 x 8 = 56\t8 x 8 = 64\t9 x 8 = 72\t\n",
      "2 x 9 = 18\t3 x 9 = 27\t4 x 9 = 36\t5 x 9 = 45\t6 x 9 = 54\t7 x 9 = 63\t8 x 9 = 72\t9 x 9 = 81\t\n"
     ]
    }
   ],
   "source": [
    "for y in range(1,10) :\n",
    "    for x in range(2,10) :\n",
    "        print(x,'x',y,'=',x*y, end = '\\t')\n",
    "    print('')"
   ]
  },
  {
   "cell_type": "markdown",
   "id": "a9ca0178",
   "metadata": {},
   "source": [
    "# List"
   ]
  },
  {
   "cell_type": "code",
   "execution_count": 201,
   "id": "fdaf573f",
   "metadata": {},
   "outputs": [
    {
     "name": "stdout",
     "output_type": "stream",
     "text": [
      "['red', 'green', 'blue', 'black', 'white']\n",
      "<class 'list'>\n",
      "red\n",
      "green\n",
      "blue\n",
      "black\n",
      "['green', 'blue', 'black']\n",
      "<class 'list'>\n",
      "==================================================\n",
      "[1, 3, 5, 7, 9, 11, 13, 15, 17, 19]\n",
      "[7, 9, 11, 13]\n",
      "1\n",
      "3\n",
      "5\n",
      "7\n",
      "9\n",
      "11\n",
      "13\n",
      "15\n",
      "17\n",
      "19\n",
      "==================================================\n",
      "사자\n",
      "호랑이\n",
      "원숭이\n",
      "곰\n",
      "사슴\n",
      "==================================================\n",
      "['무궁화', '장미', '개나리']\n",
      "['무궁화', '장미', '개나리', '벚꽃']\n",
      "['무궁화', '개나리', '벚꽃']\n"
     ]
    }
   ],
   "source": [
    "color = ['red', 'green', 'blue', 'black', 'white']\n",
    "print(color)\n",
    "print(type(color))\n",
    "print(color[0])\n",
    "print(color[1])\n",
    "print(color[2])\n",
    "print(color[3])\n",
    "print(color[1:4]) # 2번째~4번째\n",
    "print(type(color[1:4])) \n",
    "print('='*50)\n",
    "\n",
    "nums = list(range(1,21,2))\n",
    "print(nums)\n",
    "print(nums[3:7])\n",
    "for x  in nums:\n",
    "    print(x)\n",
    "print('='*50)\n",
    "\n",
    "animals = ['사자', '호랑이', '원숭이', '곰', '사슴']\n",
    "i = 0\n",
    "while i<len(animals):\n",
    "    print(animals[i])\n",
    "    i = i+1\n",
    "print('='*50)\n",
    "\n",
    "flower = ['무궁화', '장미', '개나리']\n",
    "print(flower)\n",
    "flower.append('벚꽃') #저장\n",
    "print(flower)\n",
    "flower.remove('장미') #삭제\n",
    "print(flower)"
   ]
  },
  {
   "cell_type": "code",
   "execution_count": 220,
   "id": "3af8270a",
   "metadata": {},
   "outputs": [
    {
     "name": "stdout",
     "output_type": "stream",
     "text": [
      "성적을 입력하세요 (종료 시 -1 입력):90\n",
      "성적을 입력하세요 (종료 시 -1 입력):85\n",
      "성적을 입력하세요 (종료 시 -1 입력):93\n",
      "성적을 입력하세요 (종료 시 -1 입력):86\n",
      "성적을 입력하세요 (종료 시 -1 입력):79\n",
      "성적을 입력하세요 (종료 시 -1 입력):-1\n",
      "합계 : 433, 평균 : 86.60\n"
     ]
    }
   ],
   "source": [
    "scores = []\n",
    "while True:\n",
    "    x=int(input('성적을 입력하세요 (종료 시 -1 입력):'))\n",
    "    if x == -1:\n",
    "        break\n",
    "    else :\n",
    "        scores.append(x)\n",
    "        \n",
    "sum = 0\n",
    "for score in scores:\n",
    "    sum = sum + score\n",
    "    \n",
    "avg = sum / len(scores)\n",
    "print('합계 : %d, 평균 : %.2f' % (sum, avg))"
   ]
  },
  {
   "cell_type": "code",
   "execution_count": 331,
   "id": "07b09516",
   "metadata": {},
   "outputs": [
    {
     "name": "stdout",
     "output_type": "stream",
     "text": [
      "['apple', 'banana', 'cherry', 'kiwi', 'mango']\n",
      "==================================================\n",
      "['apple', 'banana', 'mango']\n",
      "==================================================\n",
      "['banana', 'cherry', 'kiwi', 'mango']\n"
     ]
    }
   ],
   "source": [
    "fruits = [\"apple\",\"banana\",\"cherry\", \"kiwi\", \"mango\"]\n",
    "newlist = []\n",
    "newlist = [x for x in fruits]\n",
    "print(newlist)\n",
    "print('='*50)\n",
    "newlist = [x for x in fruits if 'a' in x]\n",
    "print(newlist)\n",
    "print('='*50)\n",
    "newlist = [x for x in fruits if x != \"apple\"]\n",
    "print(newlist)"
   ]
  },
  {
   "cell_type": "code",
   "execution_count": 253,
   "id": "8852ea1d",
   "metadata": {},
   "outputs": [
    {
     "name": "stdout",
     "output_type": "stream",
     "text": [
      "[[1, 2, 3, 10], [4, 5, 6, 10], [7, 8, 9, 10]]\n",
      "<class 'list'>\n",
      "[7, 8, 9, 10]\n",
      "row_length : 3\n",
      "col_length : 4\n",
      "numbers[0][0] = 1\n",
      "numbers[0][1] = 2\n",
      "numbers[0][2] = 3\n",
      "numbers[0][3] = 10\n",
      "numbers[1][0] = 4\n",
      "numbers[1][1] = 5\n",
      "numbers[1][2] = 6\n",
      "numbers[1][3] = 10\n",
      "numbers[2][0] = 7\n",
      "numbers[2][1] = 8\n",
      "numbers[2][2] = 9\n",
      "numbers[2][3] = 10\n"
     ]
    }
   ],
   "source": [
    "numbers = [ [1,2,3, 10], [4,5,6, 10], [7,8,9, 10]]\n",
    "print(numbers)\n",
    "print(type(numbers))\n",
    "print(numbers[2])\n",
    "\n",
    "i_len = len(numbers)\n",
    "j_len = len(numbers[i])\n",
    "print('row_length : ' + str(i_len))\n",
    "print('col_length : ' + str(j_len))\n",
    "\n",
    "for i in range(len(numbers)):\n",
    "    for j in range(len(numbers[i])):\n",
    "        print('numbers[{}][{}] = {}'.format(i, j, numbers[i][j]))"
   ]
  },
  {
   "cell_type": "code",
   "execution_count": 252,
   "id": "07f2ce9c",
   "metadata": {},
   "outputs": [
    {
     "name": "stdout",
     "output_type": "stream",
     "text": [
      "[[75, 83, 90], [86, 86, 73], [76, 95, 83], [89, 96, 69], [89, 76, 93]]\n",
      "row_length : 5\n",
      "col_length : 3\n",
      "1번째 학생의 합계 : 248, 평균 : 82.67\n",
      "2번째 학생의 합계 : 245, 평균 : 81.67\n",
      "3번째 학생의 합계 : 254, 평균 : 84.67\n",
      "4번째 학생의 합계 : 254, 평균 : 84.67\n",
      "5번째 학생의 합계 : 258, 평균 : 86.00\n"
     ]
    }
   ],
   "source": [
    "scores=[\n",
    "    [75,83,90], #student 1\n",
    "    [86,86,73], #student 2\n",
    "    [76,95,83], #student 3\n",
    "    [89,96,69], #student 4\n",
    "    [89,76,93]  #student 5\n",
    "]\n",
    "print(scores)\n",
    "\n",
    "        \n",
    "row_len = len(scores)\n",
    "col_len = len(scores[i])\n",
    "print('row_length : ' + str(row_len))\n",
    "print('col_length : ' + str(col_len))\n",
    "for row in range(len(scores)):\n",
    "    sum=0\n",
    "    avg = 0.0\n",
    "    for col in range(len(scores[row])):\n",
    "        sum = sum + scores[row][col];\n",
    "    avg = sum / len(scores[row])\n",
    "    print('{}번째 학생의 합계 : {}, 평균 : {:.2f}'.format(row+1, sum, avg))\n",
    "        "
   ]
  },
  {
   "cell_type": "code",
   "execution_count": 332,
   "id": "b2000ba4",
   "metadata": {},
   "outputs": [
    {
     "name": "stdout",
     "output_type": "stream",
     "text": [
      "[[75, 83, 90], [86, 86, 73], [76, 95, 83], [89, 96, 69], [89, 76, 93]]\n",
      "row_length : 5\n",
      "col_length : 3\n",
      "1과목의 합계 : 415\n",
      "2과목의 합계 : 436\n",
      "3과목의 합계 : 408\n"
     ]
    }
   ],
   "source": [
    "scores=[\n",
    "    [75,83,90], #student 1\n",
    "    [86,86,73], #student 2\n",
    "    [76,95,83], #student 3\n",
    "    [89,96,69], #student 4\n",
    "    [89,76,93]  #student 5\n",
    "]\n",
    "print(scores)\n",
    "\n",
    "        \n",
    "row_len = len(scores)\n",
    "col_len = len(scores[i])\n",
    "print('row_length : ' + str(row_len))\n",
    "print('col_length : ' + str(col_len))\n",
    "\n",
    "for col in range(len(scores[row])):\n",
    "    sum=0\n",
    "    avg = 0.0\n",
    "    for row in range(len(scores)):\n",
    "        sum = sum + scores[row][col];\n",
    "    print('{}과목의 합계 : {}'.format(col+1, sum))"
   ]
  },
  {
   "cell_type": "markdown",
   "id": "f3e5730b",
   "metadata": {},
   "source": [
    "# Function"
   ]
  },
  {
   "cell_type": "code",
   "execution_count": 292,
   "id": "a19006b7",
   "metadata": {},
   "outputs": [],
   "source": [
    "#def hello(): # function define\n",
    "def hello(name):\n",
    "    print('{} : This is hello function'.format(name))"
   ]
  },
  {
   "cell_type": "code",
   "execution_count": 294,
   "id": "35a78fe5",
   "metadata": {},
   "outputs": [
    {
     "name": "stdout",
     "output_type": "stream",
     "text": [
      "apple : This is hello function\n",
      "banana : This is hello function\n",
      "cherry : This is hello function\n",
      "kiwi : This is hello function\n",
      "mango : This is hello function\n"
     ]
    }
   ],
   "source": [
    "fruits = [\"apple\",\"banana\",\"cherry\",\"kiwi\",\"mango\"]\n",
    "for x in range(5):\n",
    "    hello(fruits[x])"
   ]
  },
  {
   "cell_type": "code",
   "execution_count": 283,
   "id": "f8a730c0",
   "metadata": {},
   "outputs": [],
   "source": [
    "def sum(a,b):\n",
    "    return a+b"
   ]
  },
  {
   "cell_type": "code",
   "execution_count": 284,
   "id": "de732c06",
   "metadata": {},
   "outputs": [
    {
     "data": {
      "text/plain": [
       "20"
      ]
     },
     "execution_count": 284,
     "metadata": {},
     "output_type": "execute_result"
    }
   ],
   "source": [
    "sum(10, 10)"
   ]
  },
  {
   "cell_type": "code",
   "execution_count": 295,
   "id": "83652d10",
   "metadata": {},
   "outputs": [],
   "source": [
    "def calc(a,b):\n",
    "    sum = a+b\n",
    "    avg = sum / 2\n",
    "    return sum, avg"
   ]
  },
  {
   "cell_type": "code",
   "execution_count": 296,
   "id": "441bac42",
   "metadata": {},
   "outputs": [
    {
     "name": "stdout",
     "output_type": "stream",
     "text": [
      "(20, 10.0)\n",
      "<class 'tuple'>\n"
     ]
    }
   ],
   "source": [
    "ret = calc(10, 10)\n",
    "print(ret)\n",
    "print(type(ret))"
   ]
  },
  {
   "cell_type": "code",
   "execution_count": 304,
   "id": "d23be96c",
   "metadata": {},
   "outputs": [],
   "source": [
    "def sum(start, end):\n",
    "    hap = 0\n",
    "    for i in range(start, end+1):\n",
    "        hap  = hap + i\n",
    "    print('%d ~ %d의 정수의 합계 : %d' %(start, end, hap))\n",
    "    print('{}~{}의 정수의 합계 : {}'.format(start, end, hap))"
   ]
  },
  {
   "cell_type": "code",
   "execution_count": 305,
   "id": "045daf6f",
   "metadata": {},
   "outputs": [
    {
     "name": "stdout",
     "output_type": "stream",
     "text": [
      "1 ~ 10의 정수의 합계 : 55\n",
      "1~10의 정수의 합계 : 55\n",
      "100 ~ 200의 정수의 합계 : 15150\n",
      "100~200의 정수의 합계 : 15150\n",
      "200 ~ 300의 정수의 합계 : 25250\n",
      "200~300의 정수의 합계 : 25250\n"
     ]
    }
   ],
   "source": [
    "sum(1,10)\n",
    "sum(100,200)\n",
    "sum(200,300)"
   ]
  },
  {
   "cell_type": "code",
   "execution_count": 309,
   "id": "c6ae768d",
   "metadata": {},
   "outputs": [],
   "source": [
    "def sum(start, end):\n",
    "    hap = 0\n",
    "    for i in range(start, end+1):\n",
    "        hap  = hap + i\n",
    "    return hap"
   ]
  },
  {
   "cell_type": "code",
   "execution_count": 310,
   "id": "46f42a12",
   "metadata": {},
   "outputs": [
    {
     "name": "stdout",
     "output_type": "stream",
     "text": [
      "1~10의 정수의 합계 : 55\n"
     ]
    },
    {
     "data": {
      "text/plain": [
       "25250"
      ]
     },
     "execution_count": 310,
     "metadata": {},
     "output_type": "execute_result"
    }
   ],
   "source": [
    "start = 1\n",
    "end = 10\n",
    "hap = sum(start, end)\n",
    "print('{}~{}의 정수의 합계 : {}'.format(start, end, hap))\n",
    "sum(100,200)\n",
    "sum(200,300)"
   ]
  },
  {
   "cell_type": "markdown",
   "id": "e69d71f5",
   "metadata": {},
   "source": [
    "# File I/O"
   ]
  },
  {
   "cell_type": "code",
   "execution_count": 1,
   "id": "fb9fae0f",
   "metadata": {},
   "outputs": [
    {
     "name": "stdout",
     "output_type": "stream",
     "text": [
      "sample.txt 파일쓰기 완료\n"
     ]
    }
   ],
   "source": [
    "file = open('sample.txt', 'w')\n",
    "file.write('안녕하세요. KCCI 수업 중입니다.')\n",
    "file.close()\n",
    "print('sample.txt 파일쓰기 완료')"
   ]
  },
  {
   "cell_type": "code",
   "execution_count": 2,
   "id": "1f6d7a11",
   "metadata": {},
   "outputs": [
    {
     "name": "stdout",
     "output_type": "stream",
     "text": [
      "안소영 97 80 3 97 93\n",
      "정예린 86 100 930 86 90\n",
      "김세린 91 88 99 79 92\n",
      "연수정 86 100 93 89 92\n",
      "박지아 80 100 95 89 90\n",
      "\n"
     ]
    }
   ],
   "source": [
    "scores=['안소영 97 80 3 97 93',\n",
    "'정예린 86 100 930 86 90',\n",
    "'김세린 91 88 99 79 92',\n",
    "'연수정 86 100 93 89 92',       \n",
    "'박지아 80 100 95 89 90']\n",
    "data = ''\n",
    "for item in scores:\n",
    "    data = data + item + '\\n'\n",
    "print(data)\n",
    "\n",
    "file = open('scores.txt', 'w')\n",
    "file.write(data)\n",
    "file.close()"
   ]
  },
  {
   "cell_type": "code",
   "execution_count": 3,
   "id": "f8c378a0",
   "metadata": {},
   "outputs": [
    {
     "name": "stdout",
     "output_type": "stream",
     "text": [
      "<class 'list'>\n",
      "['안소영 97 80 3 97 93\\n', '정예린 86 100 930 86 90\\n', '김세린 91 88 99 79 92\\n', '연수정 86 100 93 89 92\\n', '박지아 80 100 95 89 90\\n']\n",
      "안소영 97 80 3 97 93\n",
      "정예린 86 100 930 86 90\n",
      "김세린 91 88 99 79 92\n",
      "연수정 86 100 93 89 92\n",
      "박지아 80 100 95 89 90\n"
     ]
    }
   ],
   "source": [
    "file = open('scores.txt', 'r')\n",
    "lines = file.readlines()\n",
    "print(type(lines))\n",
    "print(lines)\n",
    "for line in lines:\n",
    "    print(line, end = '')\n",
    "file.close()"
   ]
  },
  {
   "cell_type": "markdown",
   "id": "3657484a",
   "metadata": {},
   "source": [
    "# Class"
   ]
  },
  {
   "cell_type": "markdown",
   "id": "59272f25",
   "metadata": {},
   "source": [
    "class [className]:\n",
    "    변수 a\n",
    "    변수 b\n",
    "    ...\n",
    "    def method1():\n",
    "        문장1\n",
    "        문장2\n",
    "        ...\n",
    "    def method2():\n",
    "        문장1\n",
    "        문장2\n",
    "        ..."
   ]
  },
  {
   "cell_type": "code",
   "execution_count": 333,
   "id": "4891e7b1",
   "metadata": {},
   "outputs": [],
   "source": [
    "class Fruit:\n",
    "    name = 'orange'\n",
    "    color = 'yellow'\n",
    "    \n",
    "    def taste(self):\n",
    "        print('새콤하다')\n",
    "    def vitamin(self):\n",
    "        print('비타민C가 풍부하다')"
   ]
  },
  {
   "cell_type": "code",
   "execution_count": 335,
   "id": "5c088f21",
   "metadata": {},
   "outputs": [
    {
     "name": "stdout",
     "output_type": "stream",
     "text": [
      "<__main__.Fruit object at 0x000001EF4DAF5DC0>\n",
      "<class '__main__.Fruit'>\n",
      "과일명 : orange\n",
      "색상 : yellow\n",
      "새콤하다\n",
      "비타민C가 풍부하다\n"
     ]
    }
   ],
   "source": [
    "orange = Fruit()\n",
    "print(orange)\n",
    "print(type(orange))\n",
    "\n",
    "print('과일명 : {}'.format(orange.name))\n",
    "print('색상 : {}'.format(orange.color))\n",
    "orange.taste()\n",
    "orange.vitamin()"
   ]
  },
  {
   "cell_type": "code",
   "execution_count": null,
   "id": "58ce7052",
   "metadata": {},
   "outputs": [],
   "source": [
    "class CParent\n",
    "{\n",
    "    int a = 10;\n",
    "    int b = 20;\n",
    "    //생성자\n",
    "    CParent(){cout<<\"ctor\"<<endl;}\n",
    "    //사용자 정의 생성자\n",
    "    CParent(/*this*/int a, int b)\n",
    "    {\n",
    "        this.a = a;\n",
    "        this.b = b;\n",
    "        cout<<\"ctor\"<<endl;\n",
    "    }\n",
    "    void Age(this)\n",
    "    {}\n",
    "    ~CParent(){cout<<\"dtor\"<<endl;}\n",
    "}"
   ]
  },
  {
   "cell_type": "code",
   "execution_count": 341,
   "id": "30644d46",
   "metadata": {},
   "outputs": [],
   "source": [
    "class Circle:\n",
    "    radius = 10\n",
    "    def getArea(self):\n",
    "        area = 3.141592 * self.radius * self.radius\n",
    "        return area\n",
    "    def getCircum(self):\n",
    "        circum = 2 * 3.141592 * self.radius\n",
    "        return circum"
   ]
  },
  {
   "cell_type": "code",
   "execution_count": 342,
   "id": "5b635499",
   "metadata": {},
   "outputs": [
    {
     "name": "stdout",
     "output_type": "stream",
     "text": [
      "반지름 : 10\n",
      "원의 면적 : 314.16\n",
      "원주의 길이 : 62.83\n"
     ]
    }
   ],
   "source": [
    "cir = Circle()\n",
    "\n",
    "print('반지름 : %d'% cir.radius)\n",
    "print('원의 면적 : %.2f' %cir.getArea())\n",
    "print('원주의 길이 : %.2f' %cir.getCircum())"
   ]
  },
  {
   "cell_type": "code",
   "execution_count": 343,
   "id": "9a01a314",
   "metadata": {},
   "outputs": [],
   "source": [
    "class Circle:\n",
    "    radius = 10\n",
    "    def getArea(self):\n",
    "        area = 3.141592 * self.radius * self.radius\n",
    "        return area\n",
    "    def getCircum(self):\n",
    "        circum = 2 * 3.141592 * self.radius\n",
    "        return circum"
   ]
  },
  {
   "cell_type": "code",
   "execution_count": 345,
   "id": "8aee0ca0",
   "metadata": {},
   "outputs": [
    {
     "name": "stdout",
     "output_type": "stream",
     "text": [
      "반지름 : 10\n",
      "원의 면적 : 314.16\n",
      "원주의 길이 : 62.83\n"
     ]
    }
   ],
   "source": [
    "cir = Circle()\n",
    "\n",
    "print('반지름 : {}'.format(cir.radius))\n",
    "print('원의 면적 : {:0.2f}'.format(cir.getArea()))\n",
    "print('원주의 길이 : {:0.2f}'.format(cir.getCircum()))"
   ]
  },
  {
   "cell_type": "code",
   "execution_count": 389,
   "id": "bcd098e8",
   "metadata": {},
   "outputs": [],
   "source": [
    "class Student:\n",
    "    name = '김민지'\n",
    "    kor = 80\n",
    "    eng = 90\n",
    "    math = 100\n",
    "    \n",
    "    def getSum(self):\n",
    "        sum = self.kor+self.eng+self.math\n",
    "        return sum\n",
    "    def getAvg(self):\n",
    "        avg = self.getSum()/3\n",
    "        return avg"
   ]
  },
  {
   "cell_type": "code",
   "execution_count": 390,
   "id": "99d8851f",
   "metadata": {},
   "outputs": [
    {
     "name": "stdout",
     "output_type": "stream",
     "text": [
      "이름 : 김민지\n",
      "국어 : 80\n",
      "영어 : 90\n",
      "수학 : 100\n",
      "합계 : 270\n",
      "평균 : 90.00\n"
     ]
    }
   ],
   "source": [
    "student = Student()\n",
    "\n",
    "print('이름 : {}'.format(student.name))\n",
    "print('국어 : {}'.format(student.kor))\n",
    "print('영어 : {}'.format(student.eng))\n",
    "print('수학 : {}'.format(student.math))\n",
    "print('합계 : {}'.format(student.getSum()))\n",
    "print('평균 : {:.2f}'.format(student.getAvg()))"
   ]
  },
  {
   "cell_type": "code",
   "execution_count": 396,
   "id": "0013e2a1",
   "metadata": {},
   "outputs": [],
   "source": [
    "# class 생성자\n",
    "class Student:\n",
    "    name = '김민지'\n",
    "    kor = 80\n",
    "    eng = 90\n",
    "    math = 100\n",
    "    \n",
    "    def __init__(self, name = '김민지', kor = 80, eng= 90, math= 100):\n",
    "        #코드작성\n",
    "        self.name = name\n",
    "        self.kor = kor\n",
    "        self.eng = eng\n",
    "        self.math = math\n",
    "        \n",
    "    def getSum(self):\n",
    "        sum = self.kor+self.eng+self.math\n",
    "        return sum\n",
    "    def getAvg(self):\n",
    "        avg = self.getSum()/3\n",
    "        return avg"
   ]
  },
  {
   "cell_type": "code",
   "execution_count": 397,
   "id": "6dcd13eb",
   "metadata": {},
   "outputs": [
    {
     "name": "stdout",
     "output_type": "stream",
     "text": [
      "이름 : 김연아\n",
      "국어 : 100\n",
      "영어 : 100\n",
      "수학 : 100\n",
      "합계 : 300\n",
      "평균 : 100.00\n"
     ]
    }
   ],
   "source": [
    "student = Student('김연아',100,100,100)\n",
    "\n",
    "print('이름 : {}'.format(student.name))\n",
    "print('국어 : {}'.format(student.kor))\n",
    "print('영어 : {}'.format(student.eng))\n",
    "print('수학 : {}'.format(student.math))\n",
    "print('합계 : {}'.format(student.getSum()))\n",
    "print('평균 : {:.2f}'.format(student.getAvg()))"
   ]
  },
  {
   "cell_type": "code",
   "execution_count": 4,
   "id": "84211229",
   "metadata": {},
   "outputs": [],
   "source": [
    "file = open('log.csv', 'w')\n",
    "file.write('시간, 사람, AI, 승리\\n')\n",
    "file.close()"
   ]
  }
 ],
 "metadata": {
  "kernelspec": {
   "display_name": "Python 3 (ipykernel)",
   "language": "python",
   "name": "python3"
  },
  "language_info": {
   "codemirror_mode": {
    "name": "ipython",
    "version": 3
   },
   "file_extension": ".py",
   "mimetype": "text/x-python",
   "name": "python",
   "nbconvert_exporter": "python",
   "pygments_lexer": "ipython3",
   "version": "3.9.13"
  }
 },
 "nbformat": 4,
 "nbformat_minor": 5
}
